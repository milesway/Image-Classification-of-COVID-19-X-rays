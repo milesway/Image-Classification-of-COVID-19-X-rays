{
 "cells": [
  {
   "cell_type": "markdown",
   "metadata": {
    "nbpresent": {
     "id": "1d234e3f-af8b-4757-83f3-241b04b7a511"
    }
   },
   "source": [
    "# Class Challenge: Image Classification of COVID-19 X-rays\n",
    "# Task 2 [Total points: 30]"
   ]
  },
  {
   "cell_type": "markdown",
   "metadata": {
    "nbpresent": {
     "id": "b07b9992-b592-4871-9f9a-3b0ae5fa8b5f"
    }
   },
   "source": [
    "## Setup\n",
    "\n",
    "* This assignment involves the following packages: 'matplotlib', 'numpy', and 'sklearn'. \n",
    "\n",
    "* If you are using conda, use the following commands to install the above packages:<br>\n",
    "```shell\n",
    "conda install matplotlib\n",
    "conda install numpy\n",
    "conda install -c anaconda scikit-learn\n",
    "```\n",
    "\n",
    "* If you are using pip, use use the following commands to install the above packages: <br> \n",
    "```shell\n",
    "pip install matplotlib\n",
    "pip install numpy\n",
    "pip install sklearn\n",
    "```"
   ]
  },
  {
   "cell_type": "markdown",
   "metadata": {
    "nbpresent": {
     "id": "5516f610-f00c-43c3-bf19-4cf7ab9c089f"
    }
   },
   "source": [
    "## Data\n",
    "\n",
    "Please download the data using the following link: [COVID-19](https://drive.google.com/file/d/1Y88tgqpQ1Pjko_7rntcPowOJs_QNOrJ-/view). \n",
    "\n",
    "* After downloading 'Covid_Data_GradientCrescent.zip', unzip the file and you should see the following data structure:\n",
    "\n",
    "\n",
    "|--all<br>\n",
    "|--------train<br>\n",
    "|--------test<br>\n",
    "|--two<br>\n",
    "|--------train<br>\n",
    "|--------test<br>\n",
    "\n",
    "\n",
    "* Put the 'all' folder, the 'two' folder and this python notebook in the **same directory** so that the following code can correctly locate the data.  \n",
    "\n"
   ]
  },
  {
   "cell_type": "markdown",
   "metadata": {
    "nbpresent": {
     "id": "66140980-2aa4-457f-b1df-74c10c234cc2"
    }
   },
   "source": [
    "## [20 points] Multi-class Classification"
   ]
  },
  {
   "cell_type": "code",
   "execution_count": 1,
   "metadata": {
    "nbpresent": {
     "id": "5e05f980-3d14-4367-b3d1-664249145b13"
    },
    "scrolled": true
   },
   "outputs": [
    {
     "data": {
      "text/plain": [
       "'2.6.0'"
      ]
     },
     "execution_count": 1,
     "metadata": {},
     "output_type": "execute_result"
    }
   ],
   "source": [
    "import os\n",
    "\n",
    "import tensorflow as tf\n",
    "import numpy as np\n",
    "import matplotlib.pyplot as plt\n",
    "from tensorflow.keras.preprocessing.image import ImageDataGenerator\n",
    "\n",
    "# os.environ['OMP_NUM_THREADS'] = '1'\n",
    "# os.environ[\"CUDA_DEVICE_ORDER\"]=\"PCI_BUS_ID\"   # see issue #152\n",
    "# os.environ[\"CUDA_VISIBLE_DEVICES\"]=\"0\"\n",
    "tf.__version__"
   ]
  },
  {
   "cell_type": "code",
   "execution_count": 2,
   "metadata": {},
   "outputs": [
    {
     "name": "stdout",
     "output_type": "stream",
     "text": [
      "Num GPUs Available:  1\n",
      "[name: \"/device:CPU:0\"\n",
      "device_type: \"CPU\"\n",
      "memory_limit: 268435456\n",
      "locality {\n",
      "}\n",
      "incarnation: 12726373218004576618\n",
      ", name: \"/device:GPU:0\"\n",
      "device_type: \"GPU\"\n",
      "memory_limit: 6252920832\n",
      "locality {\n",
      "  bus_id: 1\n",
      "  links {\n",
      "  }\n",
      "}\n",
      "incarnation: 8655891243073644095\n",
      "physical_device_desc: \"device: 0, name: NVIDIA GeForce RTX 2080 SUPER, pci bus id: 0000:01:00.0, compute capability: 7.5\"\n",
      "]\n"
     ]
    }
   ],
   "source": [
    "print(\"Num GPUs Available: \", len(tf.config.list_physical_devices('GPU')))\n",
    "tf.config.list_physical_devices('GPU')\n",
    "\n",
    "from tensorflow.python.client import device_lib\n",
    "print(device_lib.list_local_devices())"
   ]
  },
  {
   "cell_type": "markdown",
   "metadata": {
    "nbpresent": {
     "id": "66140980-2aa4-457f-b1df-74c10c234cc2"
    }
   },
   "source": [
    "#### Load Image Data"
   ]
  },
  {
   "cell_type": "code",
   "execution_count": 3,
   "metadata": {
    "nbpresent": {
     "id": "58317664-8da3-4283-b3e5-35721687e7ab"
    }
   },
   "outputs": [],
   "source": [
    "DATA_LIST = os.listdir('all/train')\n",
    "DATASET_PATH  = 'all/train'\n",
    "TEST_DIR =  'all/test'\n",
    "IMAGE_SIZE    = (224, 224)\n",
    "NUM_CLASSES   = len(DATA_LIST)\n",
    "BATCH_SIZE    = 10  # try reducing batch size or freeze more layers if your GPU runs out of memory\n",
    "NUM_EPOCHS    = 100\n",
    "LEARNING_RATE = 0.0001 # start off with high rate first 0.001 and experiment with reducing it gradually "
   ]
  },
  {
   "cell_type": "markdown",
   "metadata": {
    "nbpresent": {
     "id": "66140980-2aa4-457f-b1df-74c10c234cc2"
    }
   },
   "source": [
    "#### Generate Training and Validation Batches"
   ]
  },
  {
   "cell_type": "code",
   "execution_count": 4,
   "metadata": {
    "nbpresent": {
     "id": "71760e29-2b08-4259-93f1-ebe68cd74a6d"
    }
   },
   "outputs": [
    {
     "name": "stdout",
     "output_type": "stream",
     "text": [
      "Found 216 images belonging to 4 classes.\n",
      "Found 54 images belonging to 4 classes.\n"
     ]
    },
    {
     "name": "stderr",
     "output_type": "stream",
     "text": [
      "C:\\Users\\Li\\anaconda3\\lib\\site-packages\\keras_preprocessing\\image\\image_data_generator.py:342: UserWarning: This ImageDataGenerator specifies `zca_whitening` which overrides setting of`featurewise_std_normalization`.\n",
      "  warnings.warn('This ImageDataGenerator specifies '\n"
     ]
    }
   ],
   "source": [
    "train_datagen = ImageDataGenerator(rescale=1./255,rotation_range=50,featurewise_center = True,\n",
    "                                   featurewise_std_normalization = True,width_shift_range=0.2,\n",
    "                                   height_shift_range=0.2,shear_range=0.25,zoom_range=0.1,\n",
    "                                   zca_whitening = True,channel_shift_range = 20,\n",
    "                                   horizontal_flip = True,vertical_flip = True,\n",
    "                                   validation_split = 0.2,fill_mode='constant')\n",
    "\n",
    "\n",
    "train_batches = train_datagen.flow_from_directory(DATASET_PATH,target_size=IMAGE_SIZE,\n",
    "                                                  shuffle=True,batch_size=BATCH_SIZE,\n",
    "                                                  subset = \"training\",seed=42,\n",
    "                                                  class_mode=\"categorical\")\n",
    "\n",
    "valid_batches = train_datagen.flow_from_directory(DATASET_PATH,target_size=IMAGE_SIZE,\n",
    "                                                  shuffle=True,batch_size=BATCH_SIZE,\n",
    "                                                  subset = \"validation\",\n",
    "                                                  seed=42,class_mode=\"categorical\")"
   ]
  },
  {
   "cell_type": "markdown",
   "metadata": {
    "nbpresent": {
     "id": "66140980-2aa4-457f-b1df-74c10c234cc2"
    }
   },
   "source": [
    "#### [10 points] Build Model\n",
    "Hint: Starting from a pre-trained model typically helps performance on a new task, e.g. starting with weights obtained by training on ImageNet. "
   ]
  },
  {
   "cell_type": "code",
   "execution_count": 6,
   "metadata": {},
   "outputs": [
    {
     "name": "stderr",
     "output_type": "stream",
     "text": [
      "C:\\Users\\Li\\anaconda3\\lib\\site-packages\\keras\\optimizer_v2\\optimizer_v2.py:356: UserWarning: The `lr` argument is deprecated, use `learning_rate` instead.\n",
      "  \"The `lr` argument is deprecated, use `learning_rate` instead.\")\n"
     ]
    }
   ],
   "source": [
    "from tensorflow import keras\n",
    "model = keras.models.Sequential([\n",
    "    keras.layers.Conv2D(filters=96, kernel_size=(11,11), strides=(4,4), activation='relu', input_shape=(224,224,3)),\n",
    "    keras.layers.BatchNormalization(),\n",
    "    keras.layers.MaxPool2D(pool_size=(3,3), strides=(2,2)),\n",
    "    keras.layers.Conv2D(filters=256, kernel_size=(5,5), strides=(1,1), activation='relu', padding=\"same\"),\n",
    "    keras.layers.BatchNormalization(),\n",
    "    keras.layers.MaxPool2D(pool_size=(3,3), strides=(2,2)),\n",
    "    keras.layers.Conv2D(filters=384, kernel_size=(3,3), strides=(1,1), activation='relu', padding=\"same\"),\n",
    "    keras.layers.BatchNormalization(),\n",
    "    keras.layers.Conv2D(filters=384, kernel_size=(3,3), strides=(1,1), activation='relu', padding=\"same\"),\n",
    "    keras.layers.BatchNormalization(),\n",
    "    keras.layers.Conv2D(filters=256, kernel_size=(3,3), strides=(1,1), activation='relu', padding=\"same\"),\n",
    "    keras.layers.BatchNormalization(),\n",
    "    keras.layers.MaxPool2D(pool_size=(3,3), strides=(2,2)),\n",
    "    keras.layers.Flatten(),\n",
    "    keras.layers.Dense(4096, activation='relu'),\n",
    "    keras.layers.Dropout(0.5),\n",
    "    keras.layers.Dense(4096, activation='relu'),\n",
    "    keras.layers.Dropout(0.5),\n",
    "    keras.layers.Dense(4, activation='softmax')\n",
    "])\n",
    "\n",
    "model.compile(loss='categorical_crossentropy', optimizer=tf.keras.optimizers.Adam(lr=LEARNING_RATE),metrics=['acc'])"
   ]
  },
  {
   "cell_type": "code",
   "execution_count": 7,
   "metadata": {},
   "outputs": [
    {
     "name": "stdout",
     "output_type": "stream",
     "text": [
      "Model: \"sequential\"\n",
      "_________________________________________________________________\n",
      "Layer (type)                 Output Shape              Param #   \n",
      "=================================================================\n",
      "conv2d (Conv2D)              (None, 54, 54, 96)        34944     \n",
      "_________________________________________________________________\n",
      "batch_normalization (BatchNo (None, 54, 54, 96)        384       \n",
      "_________________________________________________________________\n",
      "max_pooling2d (MaxPooling2D) (None, 26, 26, 96)        0         \n",
      "_________________________________________________________________\n",
      "conv2d_1 (Conv2D)            (None, 26, 26, 256)       614656    \n",
      "_________________________________________________________________\n",
      "batch_normalization_1 (Batch (None, 26, 26, 256)       1024      \n",
      "_________________________________________________________________\n",
      "max_pooling2d_1 (MaxPooling2 (None, 12, 12, 256)       0         \n",
      "_________________________________________________________________\n",
      "conv2d_2 (Conv2D)            (None, 12, 12, 384)       885120    \n",
      "_________________________________________________________________\n",
      "batch_normalization_2 (Batch (None, 12, 12, 384)       1536      \n",
      "_________________________________________________________________\n",
      "conv2d_3 (Conv2D)            (None, 12, 12, 384)       1327488   \n",
      "_________________________________________________________________\n",
      "batch_normalization_3 (Batch (None, 12, 12, 384)       1536      \n",
      "_________________________________________________________________\n",
      "conv2d_4 (Conv2D)            (None, 12, 12, 256)       884992    \n",
      "_________________________________________________________________\n",
      "batch_normalization_4 (Batch (None, 12, 12, 256)       1024      \n",
      "_________________________________________________________________\n",
      "max_pooling2d_2 (MaxPooling2 (None, 5, 5, 256)         0         \n",
      "_________________________________________________________________\n",
      "flatten (Flatten)            (None, 6400)              0         \n",
      "_________________________________________________________________\n",
      "dense (Dense)                (None, 4096)              26218496  \n",
      "_________________________________________________________________\n",
      "dropout (Dropout)            (None, 4096)              0         \n",
      "_________________________________________________________________\n",
      "dense_1 (Dense)              (None, 4096)              16781312  \n",
      "_________________________________________________________________\n",
      "dropout_1 (Dropout)          (None, 4096)              0         \n",
      "_________________________________________________________________\n",
      "dense_2 (Dense)              (None, 4)                 16388     \n",
      "=================================================================\n",
      "Total params: 46,768,900\n",
      "Trainable params: 46,766,148\n",
      "Non-trainable params: 2,752\n",
      "_________________________________________________________________\n",
      "None\n"
     ]
    }
   ],
   "source": [
    "print(model.summary())"
   ]
  },
  {
   "cell_type": "markdown",
   "metadata": {
    "nbpresent": {
     "id": "66140980-2aa4-457f-b1df-74c10c234cc2"
    }
   },
   "source": [
    "#### [5 points] Train Model"
   ]
  },
  {
   "cell_type": "code",
   "execution_count": 9,
   "metadata": {
    "nbpresent": {
     "id": "cdb90d24-6a23-4969-8138-f37e7050062d"
    }
   },
   "outputs": [
    {
     "name": "stderr",
     "output_type": "stream",
     "text": [
      "C:\\Users\\Li\\anaconda3\\lib\\site-packages\\keras\\engine\\training.py:1972: UserWarning: `Model.fit_generator` is deprecated and will be removed in a future version. Please use `Model.fit`, which supports generators.\n",
      "  warnings.warn('`Model.fit_generator` is deprecated and '\n"
     ]
    },
    {
     "name": "stdout",
     "output_type": "stream",
     "text": [
      "22\n",
      "6\n"
     ]
    },
    {
     "name": "stderr",
     "output_type": "stream",
     "text": [
      "C:\\Users\\Li\\anaconda3\\lib\\site-packages\\keras_preprocessing\\image\\image_data_generator.py:720: UserWarning: This ImageDataGenerator specifies `featurewise_center`, but it hasn't been fit on any training data. Fit it first by calling `.fit(numpy_data)`.\n",
      "  warnings.warn('This ImageDataGenerator specifies '\n",
      "C:\\Users\\Li\\anaconda3\\lib\\site-packages\\keras_preprocessing\\image\\image_data_generator.py:739: UserWarning: This ImageDataGenerator specifies `zca_whitening`, but it hasn't been fit on any training data. Fit it first by calling `.fit(numpy_data)`.\n",
      "  warnings.warn('This ImageDataGenerator specifies '\n"
     ]
    },
    {
     "name": "stdout",
     "output_type": "stream",
     "text": [
      "Epoch 1/100\n",
      "21/21 [==============================] - 8s 255ms/step - loss: 4.8215 - acc: 0.3204 - val_loss: 1.4077 - val_acc: 0.2400\n",
      "Epoch 2/100\n",
      "21/21 [==============================] - 5s 239ms/step - loss: 4.1297 - acc: 0.3398 - val_loss: 1.5585 - val_acc: 0.2800\n",
      "Epoch 3/100\n",
      "21/21 [==============================] - 5s 238ms/step - loss: 2.7325 - acc: 0.4369 - val_loss: 1.7217 - val_acc: 0.2600\n",
      "Epoch 4/100\n",
      "21/21 [==============================] - 5s 235ms/step - loss: 2.7455 - acc: 0.4369 - val_loss: 1.9837 - val_acc: 0.2000\n",
      "Epoch 5/100\n",
      "21/21 [==============================] - 5s 234ms/step - loss: 2.5071 - acc: 0.4563 - val_loss: 3.0141 - val_acc: 0.2400\n",
      "Epoch 6/100\n",
      "21/21 [==============================] - 5s 237ms/step - loss: 2.5231 - acc: 0.4369 - val_loss: 4.0515 - val_acc: 0.2000\n",
      "Epoch 7/100\n",
      "21/21 [==============================] - 5s 237ms/step - loss: 2.5852 - acc: 0.4660 - val_loss: 4.0158 - val_acc: 0.2200\n",
      "Epoch 8/100\n",
      "21/21 [==============================] - 5s 240ms/step - loss: 2.5948 - acc: 0.5340 - val_loss: 4.0584 - val_acc: 0.2600\n",
      "Epoch 9/100\n",
      "21/21 [==============================] - 5s 237ms/step - loss: 2.5159 - acc: 0.5243 - val_loss: 3.2596 - val_acc: 0.2400\n",
      "Epoch 10/100\n",
      "21/21 [==============================] - 5s 233ms/step - loss: 2.4016 - acc: 0.5243 - val_loss: 3.0076 - val_acc: 0.3400\n",
      "Epoch 11/100\n",
      "21/21 [==============================] - 5s 238ms/step - loss: 2.4581 - acc: 0.4854 - val_loss: 1.6260 - val_acc: 0.3000\n",
      "Epoch 12/100\n",
      "21/21 [==============================] - 5s 231ms/step - loss: 2.1867 - acc: 0.5000 - val_loss: 5.4962 - val_acc: 0.2800\n",
      "Epoch 13/100\n",
      "21/21 [==============================] - 5s 237ms/step - loss: 1.7552 - acc: 0.5534 - val_loss: 4.2334 - val_acc: 0.3400\n",
      "Epoch 14/100\n",
      "21/21 [==============================] - 5s 242ms/step - loss: 1.6111 - acc: 0.6117 - val_loss: 3.8106 - val_acc: 0.3200\n",
      "Epoch 15/100\n",
      "21/21 [==============================] - 5s 235ms/step - loss: 1.9208 - acc: 0.5680 - val_loss: 3.2543 - val_acc: 0.3800\n",
      "Epoch 16/100\n",
      "21/21 [==============================] - 5s 230ms/step - loss: 1.4907 - acc: 0.5340 - val_loss: 5.6091 - val_acc: 0.2200\n",
      "Epoch 17/100\n",
      "21/21 [==============================] - 5s 238ms/step - loss: 1.7111 - acc: 0.5194 - val_loss: 3.6573 - val_acc: 0.3400\n",
      "Epoch 18/100\n",
      "21/21 [==============================] - 5s 238ms/step - loss: 1.6199 - acc: 0.5485 - val_loss: 2.0417 - val_acc: 0.4600\n",
      "Epoch 19/100\n",
      "21/21 [==============================] - 5s 232ms/step - loss: 1.7317 - acc: 0.4709 - val_loss: 7.6606 - val_acc: 0.2600\n",
      "Epoch 20/100\n",
      "21/21 [==============================] - 5s 236ms/step - loss: 1.5074 - acc: 0.5922 - val_loss: 5.5769 - val_acc: 0.3000\n",
      "Epoch 21/100\n",
      "21/21 [==============================] - 5s 241ms/step - loss: 1.6157 - acc: 0.5534 - val_loss: 4.2102 - val_acc: 0.2000\n",
      "Epoch 22/100\n",
      "21/21 [==============================] - 5s 238ms/step - loss: 1.4843 - acc: 0.5583 - val_loss: 5.7110 - val_acc: 0.2200\n",
      "Epoch 23/100\n",
      "21/21 [==============================] - 5s 235ms/step - loss: 1.5378 - acc: 0.5534 - val_loss: 4.3639 - val_acc: 0.4400\n",
      "Epoch 24/100\n",
      "21/21 [==============================] - 5s 231ms/step - loss: 1.4735 - acc: 0.5728 - val_loss: 2.2649 - val_acc: 0.4000\n",
      "Epoch 25/100\n",
      "21/21 [==============================] - 5s 237ms/step - loss: 1.4272 - acc: 0.5777 - val_loss: 1.4866 - val_acc: 0.3600\n",
      "Epoch 26/100\n",
      "21/21 [==============================] - 5s 236ms/step - loss: 1.3218 - acc: 0.5631 - val_loss: 1.5364 - val_acc: 0.4600\n",
      "Epoch 27/100\n",
      "21/21 [==============================] - 5s 235ms/step - loss: 1.2739 - acc: 0.5728 - val_loss: 3.7323 - val_acc: 0.3200\n",
      "Epoch 28/100\n",
      "21/21 [==============================] - 5s 236ms/step - loss: 1.2145 - acc: 0.6117 - val_loss: 2.6018 - val_acc: 0.2600\n",
      "Epoch 29/100\n",
      "21/21 [==============================] - 5s 238ms/step - loss: 1.1725 - acc: 0.6456 - val_loss: 2.9251 - val_acc: 0.4800\n",
      "Epoch 30/100\n",
      "21/21 [==============================] - 5s 226ms/step - loss: 1.2945 - acc: 0.5291 - val_loss: 1.1911 - val_acc: 0.6000\n",
      "Epoch 31/100\n",
      "21/21 [==============================] - 5s 233ms/step - loss: 1.3250 - acc: 0.5340 - val_loss: 2.3267 - val_acc: 0.3600\n",
      "Epoch 32/100\n",
      "21/21 [==============================] - 5s 237ms/step - loss: 1.0252 - acc: 0.5825 - val_loss: 1.6893 - val_acc: 0.4800\n",
      "Epoch 33/100\n",
      "21/21 [==============================] - 5s 238ms/step - loss: 1.0842 - acc: 0.5922 - val_loss: 3.1281 - val_acc: 0.3800\n",
      "Epoch 34/100\n",
      "21/21 [==============================] - 5s 238ms/step - loss: 1.1228 - acc: 0.6019 - val_loss: 1.5977 - val_acc: 0.4600\n",
      "Epoch 35/100\n",
      "21/21 [==============================] - 5s 241ms/step - loss: 1.0367 - acc: 0.6117 - val_loss: 2.8055 - val_acc: 0.3600\n",
      "Epoch 36/100\n",
      "21/21 [==============================] - 5s 233ms/step - loss: 1.0897 - acc: 0.5680 - val_loss: 2.6730 - val_acc: 0.3000\n",
      "Epoch 37/100\n",
      "21/21 [==============================] - 5s 239ms/step - loss: 0.8613 - acc: 0.6359 - val_loss: 4.1116 - val_acc: 0.2000\n",
      "Epoch 38/100\n",
      "21/21 [==============================] - 5s 236ms/step - loss: 1.0699 - acc: 0.6117 - val_loss: 2.4060 - val_acc: 0.4200\n",
      "Epoch 39/100\n",
      "21/21 [==============================] - 5s 235ms/step - loss: 0.7967 - acc: 0.6942 - val_loss: 2.4584 - val_acc: 0.3600\n",
      "Epoch 40/100\n",
      "21/21 [==============================] - 5s 235ms/step - loss: 0.9640 - acc: 0.6165 - val_loss: 1.2635 - val_acc: 0.5800\n",
      "Epoch 41/100\n",
      "21/21 [==============================] - 5s 236ms/step - loss: 1.0871 - acc: 0.5971 - val_loss: 2.2130 - val_acc: 0.4400\n",
      "Epoch 42/100\n",
      "21/21 [==============================] - 5s 236ms/step - loss: 0.9806 - acc: 0.6359 - val_loss: 1.7818 - val_acc: 0.4000\n",
      "Epoch 43/100\n",
      "21/21 [==============================] - 5s 236ms/step - loss: 1.0476 - acc: 0.5905 - val_loss: 2.0843 - val_acc: 0.3000\n",
      "Epoch 44/100\n",
      "21/21 [==============================] - 5s 236ms/step - loss: 0.8778 - acc: 0.6068 - val_loss: 1.9924 - val_acc: 0.3800\n",
      "Epoch 45/100\n",
      "21/21 [==============================] - 5s 236ms/step - loss: 0.7634 - acc: 0.6748 - val_loss: 3.5316 - val_acc: 0.3000\n",
      "Epoch 46/100\n",
      "21/21 [==============================] - 5s 231ms/step - loss: 0.9605 - acc: 0.6165 - val_loss: 1.8319 - val_acc: 0.4200\n",
      "Epoch 47/100\n",
      "21/21 [==============================] - 5s 238ms/step - loss: 0.9366 - acc: 0.6214 - val_loss: 0.9257 - val_acc: 0.6000\n",
      "Epoch 48/100\n",
      "21/21 [==============================] - 5s 233ms/step - loss: 0.9489 - acc: 0.6214 - val_loss: 1.1202 - val_acc: 0.5400\n",
      "Epoch 49/100\n",
      "21/21 [==============================] - 5s 234ms/step - loss: 0.8407 - acc: 0.6650 - val_loss: 4.4054 - val_acc: 0.2800\n",
      "Epoch 50/100\n",
      "21/21 [==============================] - 5s 230ms/step - loss: 0.8985 - acc: 0.6553 - val_loss: 1.4941 - val_acc: 0.4200\n",
      "Epoch 51/100\n",
      "21/21 [==============================] - 5s 237ms/step - loss: 0.9061 - acc: 0.6359 - val_loss: 1.2352 - val_acc: 0.4200\n",
      "Epoch 52/100\n",
      "21/21 [==============================] - 5s 234ms/step - loss: 0.7534 - acc: 0.6699 - val_loss: 1.0490 - val_acc: 0.5200\n",
      "Epoch 53/100\n",
      "21/21 [==============================] - 5s 236ms/step - loss: 0.9939 - acc: 0.5922 - val_loss: 0.8031 - val_acc: 0.6400\n",
      "Epoch 54/100\n",
      "21/21 [==============================] - 5s 235ms/step - loss: 0.9645 - acc: 0.6117 - val_loss: 1.1666 - val_acc: 0.4800\n",
      "Epoch 55/100\n",
      "21/21 [==============================] - 5s 230ms/step - loss: 0.9808 - acc: 0.6262 - val_loss: 1.5473 - val_acc: 0.2400\n",
      "Epoch 56/100\n",
      "21/21 [==============================] - 5s 232ms/step - loss: 0.9542 - acc: 0.6262 - val_loss: 1.8876 - val_acc: 0.4200\n",
      "Epoch 57/100\n",
      "21/21 [==============================] - 5s 234ms/step - loss: 1.0149 - acc: 0.6165 - val_loss: 2.2951 - val_acc: 0.4000\n",
      "Epoch 58/100\n",
      "21/21 [==============================] - 5s 240ms/step - loss: 0.7963 - acc: 0.6699 - val_loss: 1.4127 - val_acc: 0.4600\n",
      "Epoch 59/100\n",
      "21/21 [==============================] - 5s 232ms/step - loss: 0.8824 - acc: 0.5874 - val_loss: 4.3082 - val_acc: 0.2200\n",
      "Epoch 60/100\n",
      "21/21 [==============================] - 5s 234ms/step - loss: 0.7791 - acc: 0.6748 - val_loss: 3.5294 - val_acc: 0.2400\n",
      "Epoch 61/100\n",
      "21/21 [==============================] - 5s 233ms/step - loss: 0.8023 - acc: 0.6553 - val_loss: 1.6017 - val_acc: 0.3800\n",
      "Epoch 62/100\n",
      "21/21 [==============================] - 5s 237ms/step - loss: 0.8277 - acc: 0.6699 - val_loss: 1.3177 - val_acc: 0.5200\n",
      "Epoch 63/100\n",
      "21/21 [==============================] - 5s 226ms/step - loss: 0.8562 - acc: 0.6602 - val_loss: 2.5455 - val_acc: 0.3200\n",
      "Epoch 64/100\n",
      "21/21 [==============================] - 5s 232ms/step - loss: 0.7771 - acc: 0.6602 - val_loss: 1.3651 - val_acc: 0.5000\n",
      "Epoch 65/100\n",
      "21/21 [==============================] - 5s 238ms/step - loss: 0.9341 - acc: 0.6699 - val_loss: 1.4941 - val_acc: 0.4400\n",
      "Epoch 66/100\n",
      "21/21 [==============================] - 5s 238ms/step - loss: 0.8799 - acc: 0.6456 - val_loss: 5.9702 - val_acc: 0.2800\n",
      "Epoch 67/100\n",
      "21/21 [==============================] - 5s 238ms/step - loss: 0.8211 - acc: 0.6456 - val_loss: 1.4320 - val_acc: 0.3800\n",
      "Epoch 68/100\n",
      "21/21 [==============================] - 5s 230ms/step - loss: 0.7380 - acc: 0.6893 - val_loss: 1.3813 - val_acc: 0.4400\n",
      "Epoch 69/100\n",
      "21/21 [==============================] - 5s 231ms/step - loss: 0.7603 - acc: 0.6650 - val_loss: 1.6980 - val_acc: 0.3400\n",
      "Epoch 70/100\n",
      "21/21 [==============================] - 5s 231ms/step - loss: 0.7171 - acc: 0.6796 - val_loss: 4.2800 - val_acc: 0.4000\n",
      "Epoch 71/100\n",
      "21/21 [==============================] - 5s 231ms/step - loss: 0.8087 - acc: 0.6408 - val_loss: 7.1466 - val_acc: 0.4800\n",
      "Epoch 72/100\n",
      "21/21 [==============================] - 5s 239ms/step - loss: 0.7475 - acc: 0.7184 - val_loss: 6.5452 - val_acc: 0.2800\n",
      "Epoch 73/100\n",
      "21/21 [==============================] - 5s 239ms/step - loss: 0.7955 - acc: 0.6699 - val_loss: 1.4028 - val_acc: 0.5800\n",
      "Epoch 74/100\n",
      "21/21 [==============================] - 5s 236ms/step - loss: 0.6779 - acc: 0.6893 - val_loss: 1.2342 - val_acc: 0.5000\n",
      "Epoch 75/100\n",
      "21/21 [==============================] - 5s 238ms/step - loss: 0.8865 - acc: 0.6262 - val_loss: 1.8677 - val_acc: 0.4400\n",
      "Epoch 76/100\n",
      "21/21 [==============================] - 5s 238ms/step - loss: 0.7029 - acc: 0.6942 - val_loss: 1.2583 - val_acc: 0.5600\n",
      "Epoch 77/100\n",
      "21/21 [==============================] - 5s 238ms/step - loss: 0.7400 - acc: 0.6942 - val_loss: 2.7565 - val_acc: 0.2600\n",
      "Epoch 78/100\n",
      "21/21 [==============================] - 5s 241ms/step - loss: 0.8694 - acc: 0.6214 - val_loss: 7.7952 - val_acc: 0.3000\n",
      "Epoch 79/100\n",
      "21/21 [==============================] - 5s 235ms/step - loss: 0.9416 - acc: 0.6068 - val_loss: 1.4215 - val_acc: 0.4400\n",
      "Epoch 80/100\n",
      "21/21 [==============================] - 5s 239ms/step - loss: 0.8051 - acc: 0.6214 - val_loss: 2.6372 - val_acc: 0.3600\n",
      "Epoch 81/100\n",
      "21/21 [==============================] - 5s 236ms/step - loss: 0.7854 - acc: 0.6456 - val_loss: 2.2402 - val_acc: 0.4600\n",
      "Epoch 82/100\n",
      "21/21 [==============================] - 5s 234ms/step - loss: 0.8042 - acc: 0.6553 - val_loss: 0.9815 - val_acc: 0.6200\n",
      "Epoch 83/100\n",
      "21/21 [==============================] - 5s 240ms/step - loss: 0.8004 - acc: 0.6602 - val_loss: 7.7574 - val_acc: 0.2200\n",
      "Epoch 84/100\n",
      "21/21 [==============================] - 5s 229ms/step - loss: 0.7240 - acc: 0.7039 - val_loss: 3.5685 - val_acc: 0.2200\n",
      "Epoch 85/100\n",
      "21/21 [==============================] - 5s 237ms/step - loss: 0.6545 - acc: 0.7282 - val_loss: 4.4165 - val_acc: 0.2200\n",
      "Epoch 86/100\n",
      "21/21 [==============================] - 5s 239ms/step - loss: 0.8418 - acc: 0.6748 - val_loss: 1.6613 - val_acc: 0.4200\n",
      "Epoch 87/100\n",
      "21/21 [==============================] - 5s 237ms/step - loss: 0.7077 - acc: 0.6893 - val_loss: 2.2972 - val_acc: 0.3400\n",
      "Epoch 88/100\n",
      "21/21 [==============================] - 5s 241ms/step - loss: 0.9360 - acc: 0.6505 - val_loss: 1.9593 - val_acc: 0.3800\n",
      "Epoch 89/100\n",
      "21/21 [==============================] - 5s 235ms/step - loss: 0.7283 - acc: 0.6796 - val_loss: 1.7564 - val_acc: 0.4200\n",
      "Epoch 90/100\n",
      "21/21 [==============================] - 5s 233ms/step - loss: 0.7304 - acc: 0.7184 - val_loss: 4.0258 - val_acc: 0.2600\n",
      "Epoch 91/100\n",
      "21/21 [==============================] - 5s 233ms/step - loss: 0.7688 - acc: 0.6408 - val_loss: 2.3688 - val_acc: 0.3200\n",
      "Epoch 92/100\n",
      "21/21 [==============================] - 5s 238ms/step - loss: 0.8023 - acc: 0.6650 - val_loss: 0.8875 - val_acc: 0.6200\n",
      "Epoch 93/100\n",
      "21/21 [==============================] - 5s 241ms/step - loss: 0.7271 - acc: 0.6990 - val_loss: 11.6511 - val_acc: 0.2200\n",
      "Epoch 94/100\n",
      "21/21 [==============================] - 5s 236ms/step - loss: 0.9190 - acc: 0.6117 - val_loss: 2.8103 - val_acc: 0.4600\n",
      "Epoch 95/100\n",
      "21/21 [==============================] - 5s 241ms/step - loss: 0.8167 - acc: 0.6311 - val_loss: 1.0039 - val_acc: 0.4800\n",
      "Epoch 96/100\n",
      "21/21 [==============================] - 5s 236ms/step - loss: 0.7645 - acc: 0.6942 - val_loss: 1.5999 - val_acc: 0.4200\n",
      "Epoch 97/100\n",
      "21/21 [==============================] - 5s 236ms/step - loss: 0.7012 - acc: 0.6845 - val_loss: 3.9530 - val_acc: 0.3000\n",
      "Epoch 98/100\n",
      "21/21 [==============================] - 5s 237ms/step - loss: 0.7906 - acc: 0.6845 - val_loss: 1.2719 - val_acc: 0.4400\n",
      "Epoch 99/100\n",
      "21/21 [==============================] - 5s 239ms/step - loss: 0.7634 - acc: 0.6748 - val_loss: 0.7836 - val_acc: 0.6000\n",
      "Epoch 100/100\n",
      "21/21 [==============================] - 5s 242ms/step - loss: 0.7193 - acc: 0.6845 - val_loss: 1.9475 - val_acc: 0.4200\n"
     ]
    }
   ],
   "source": [
    "#FIT MODEL\n",
    "print(len(train_batches))\n",
    "print(len(valid_batches))\n",
    "\n",
    "STEP_SIZE_TRAIN=train_batches.n//train_batches.batch_size\n",
    "STEP_SIZE_VALID=valid_batches.n//valid_batches.batch_size\n",
    "\n",
    "history=model.fit_generator(train_batches, steps_per_epoch =STEP_SIZE_TRAIN, validation_data = valid_batches, validation_steps = STEP_SIZE_VALID, epochs= NUM_EPOCHS)"
   ]
  },
  {
   "cell_type": "markdown",
   "metadata": {
    "nbpresent": {
     "id": "66140980-2aa4-457f-b1df-74c10c234cc2"
    }
   },
   "source": [
    "#### [5 points] Plot Accuracy and Loss During Training"
   ]
  },
  {
   "cell_type": "code",
   "execution_count": 11,
   "metadata": {
    "nbpresent": {
     "id": "ff342098-784a-4e20-ac34-b74ca8ebe839"
    }
   },
   "outputs": [
    {
     "data": {
      "image/png": "[encoded data removed]",
      "text/plain": [
       "<Figure size 1080x360 with 2 Axes>"
      ]
     },
     "metadata": {
      "needs_background": "light"
     },
     "output_type": "display_data"
    }
   ],
   "source": [
    "import matplotlib.pyplot as plt\n",
    "\n",
    "def plot_acc_loss(history, epochs):\n",
    "    acc = history.history['acc']\n",
    "    val_acc = history.history['val_acc']\n",
    "    loss = history.history['loss']\n",
    "    val_loss = history.history['val_loss']\n",
    "    \n",
    "    plt.figure(figsize=(15, 5))\n",
    "    \n",
    "    plt.subplot(121)\n",
    "    plt.plot(range(1,epochs), acc[1:], label='Train_acc')\n",
    "    plt.plot(range(1,epochs), val_acc[1:], label='Test_acc')\n",
    "    plt.title('Accuracy over ' + str(epochs) + ' Epochs', size=15)\n",
    "    plt.grid(True)\n",
    "    plt.legend()\n",
    "    \n",
    "    plt.subplot(122)\n",
    "    plt.plot(range(1,epochs), loss[1:], label='Train_loss')\n",
    "    plt.plot(range(1,epochs), val_loss[1:], label='Test_loss')\n",
    "    plt.title('Loss over ' + str(epochs) + ' Epochs', size=15)\n",
    "    plt.grid(True)\n",
    "    plt.legend()\n",
    "    \n",
    "    plt.show()\n",
    "\n",
    "    \n",
    "plot_acc_loss(history, 100)"
   ]
  },
  {
   "cell_type": "markdown",
   "metadata": {
    "nbpresent": {
     "id": "66140980-2aa4-457f-b1df-74c10c234cc2"
    }
   },
   "source": [
    "#### Testing Model"
   ]
  },
  {
   "cell_type": "code",
   "execution_count": 12,
   "metadata": {},
   "outputs": [
    {
     "name": "stdout",
     "output_type": "stream",
     "text": [
      "Found 36 images belonging to 4 classes.\n",
      "36\n",
      " 1/36 [..............................] - ETA: 5s - loss: 4.9422 - acc: 0.0000e+00"
     ]
    },
    {
     "name": "stderr",
     "output_type": "stream",
     "text": [
      "C:\\Users\\Li\\anaconda3\\lib\\site-packages\\keras\\engine\\training.py:2006: UserWarning: `Model.evaluate_generator` is deprecated and will be removed in a future version. Please use `Model.evaluate`, which supports generators.\n",
      "  warnings.warn('`Model.evaluate_generator` is deprecated and '\n"
     ]
    },
    {
     "name": "stdout",
     "output_type": "stream",
     "text": [
      "36/36 [==============================] - 1s 16ms/step - loss: 2.4918 - acc: 0.3611\n",
      "Test loss: 2.491814613342285\n",
      "Test accuracy: 0.3611111044883728\n"
     ]
    }
   ],
   "source": [
    "test_datagen = ImageDataGenerator(rescale=1. / 255)\n",
    "\n",
    "eval_generator = test_datagen.flow_from_directory(TEST_DIR,target_size=IMAGE_SIZE,\n",
    "                                                  batch_size=1,shuffle=True,seed=42,class_mode=\"categorical\")\n",
    "eval_generator.reset()\n",
    "print(len(eval_generator))\n",
    "x = model.evaluate_generator(eval_generator,steps = np.ceil(len(eval_generator)),\n",
    "                           use_multiprocessing = False,verbose = 1,workers=1)\n",
    "print('Test loss:' , x[0])\n",
    "print('Test accuracy:',x[1])"
   ]
  },
  {
   "cell_type": "markdown",
   "metadata": {
    "nbpresent": {
     "id": "66140980-2aa4-457f-b1df-74c10c234cc2"
    }
   },
   "source": [
    "## [10 points] TSNE Plot\n",
    "t-Distributed Stochastic Neighbor Embedding (t-SNE) is a widely used technique for dimensionality reduction that is particularly well suited for the visualization of high-dimensional datasets. After training is complete, extract features from a specific deep layer of your choice, use t-SNE to reduce the dimensionality of your extracted features to 2 dimensions and plot the resulting 2D features."
   ]
  },
  {
   "cell_type": "code",
   "execution_count": 16,
   "metadata": {},
   "outputs": [
    {
     "name": "stdout",
     "output_type": "stream",
     "text": [
      "Found 270 images belonging to 4 classes.\n",
      "{'covid': 0, 'normal': 1, 'pneumonia_bac': 2, 'pneumonia_vir': 3}\n",
      "  4/270 [..............................] - ETA: 4s "
     ]
    },
    {
     "name": "stderr",
     "output_type": "stream",
     "text": [
      "C:\\Users\\Li\\anaconda3\\lib\\site-packages\\keras\\engine\\training.py:2035: UserWarning: `Model.predict_generator` is deprecated and will be removed in a future version. Please use `Model.predict`, which supports generators.\n",
      "  warnings.warn('`Model.predict_generator` is deprecated and '\n"
     ]
    },
    {
     "name": "stdout",
     "output_type": "stream",
     "text": [
      "270/270 [==============================] - 3s 12ms/step\n"
     ]
    },
    {
     "data": {
      "text/plain": [
       "<matplotlib.legend.Legend at 0x267585dbbc8>"
      ]
     },
     "execution_count": 16,
     "metadata": {},
     "output_type": "execute_result"
    },
    {
     "data": {
      "image/png": "[encoded data removed]",
      "text/plain": [
       "<Figure size 432x288 with 1 Axes>"
      ]
     },
     "metadata": {
      "needs_background": "light"
     },
     "output_type": "display_data"
    }
   ],
   "source": [
    "from sklearn.manifold import TSNE\n",
    "\n",
    "intermediate_layer_model = tf.keras.models.Model(inputs=model.input,\n",
    "                                        outputs=model.get_layer('dense').output)\n",
    "tsne_eval_generator = test_datagen.flow_from_directory(DATASET_PATH,target_size=IMAGE_SIZE,\n",
    "                                                  batch_size=1,shuffle=False,seed=42,class_mode=\"categorical\")\n",
    "print(tsne_eval_generator.class_indices)\n",
    "\n",
    "outputs = intermediate_layer_model.predict_generator(tsne_eval_generator,270,verbose=1)\n",
    "features = TSNE(n_components=2).fit_transform(outputs)\n",
    "label = tsne_eval_generator.classes\n",
    "\n",
    "\n",
    "covid_x, covid_y, normal_x, normal_y, pneumonia_bac_x, pneumonia_bac_y, pneumonia_vir_x, pneumonia_vir_y = [],[],[],[],[],[],[],[]\n",
    "\n",
    "plt.figure()\n",
    "for index in range(len(features)):\n",
    "    if label[index] == 0:\n",
    "        covid_x.append(features[index, 0])\n",
    "        covid_y.append(features[index, 1])        \n",
    "    elif label[index] == 1:\n",
    "        normal_x.append(features[index, 0])\n",
    "        normal_y.append(features[index, 1]) \n",
    "    elif label[index] == 2:\n",
    "        pneumonia_bac_x.append(features[index, 0])\n",
    "        pneumonia_bac_y.append(features[index, 1]) \n",
    "    else:\n",
    "        pneumonia_vir_x.append(features[index, 0])\n",
    "        pneumonia_vir_y.append(features[index, 1]) \n",
    "\n",
    "plt.plot(covid_x, covid_y,'bo', ms=4, label=\"COVID-19\")\n",
    "plt.plot(normal_x, normal_y,'yo', ms=4, label=\"Normal\")\n",
    "plt.plot(pneumonia_bac_x, pneumonia_bac_y, 'go', ms=4, label=\"Pneumonia_bac\")\n",
    "plt.plot(pneumonia_vir_x, pneumonia_vir_y, 'ro', ms=4, label=\"Pneumonia_vir\")\n",
    "\n",
    "plt.legend(loc='lower right')"
   ]
  },
  {
   "cell_type": "markdown",
   "metadata": {},
   "source": [
    "<!-- ## Task 2: COVID-19 vs Normal vs Tertiary Pneumonia (Bacterial and Viral) -->"
   ]
  },
  {
   "cell_type": "markdown",
   "metadata": {
    "nbpresent": {
     "id": "66140980-2aa4-457f-b1df-74c10c234cc2"
    }
   },
   "source": [
    "<!-- #### Renew Training Batch and Validation Batch -->"
   ]
  },
  {
   "cell_type": "markdown",
   "metadata": {
    "nbpresent": {
     "id": "66140980-2aa4-457f-b1df-74c10c234cc2"
    }
   },
   "source": [
    "<!-- #### Renew Model -->"
   ]
  }
 ],
 "metadata": {
  "kernelspec": {
   "display_name": "Python 3",
   "language": "python",
   "name": "python3"
  },
  "language_info": {
   "codemirror_mode": {
    "name": "ipython",
    "version": 3
   },
   "file_extension": ".py",
   "mimetype": "text/x-python",
   "name": "python",
   "nbconvert_exporter": "python",
   "pygments_lexer": "ipython3",
   "version": "3.7.6"
  },
  "latex_envs": {
   "LaTeX_envs_menu_present": true,
   "autoclose": false,
   "autocomplete": true,
   "bibliofile": "biblio.bib",
   "cite_by": "apalike",
   "current_citInitial": 1,
   "eqLabelWithNumbers": true,
   "eqNumInitial": 1,
   "hotkeys": {
    "equation": "Ctrl-E",
    "itemize": "Ctrl-I"
   },
   "labels_anchors": false,
   "latex_user_defs": false,
   "report_style_numbering": false,
   "user_envs_cfg": false
  },
  "toc": {
   "base_numbering": 1,
   "nav_menu": {},
   "number_sections": true,
   "sideBar": true,
   "skip_h1_title": false,
   "title_cell": "Table of Contents",
   "title_sidebar": "Contents",
   "toc_cell": false,
   "toc_position": {},
   "toc_section_display": true,
   "toc_window_display": false
  },
  "varInspector": {
   "cols": {
    "lenName": 16,
    "lenType": 16,
    "lenVar": 40
   },
   "kernels_config": {
    "python": {
     "delete_cmd_postfix": "",
     "delete_cmd_prefix": "del ",
     "library": "var_list.py",
     "varRefreshCmd": "print(var_dic_list())"
    },
    "r": {
     "delete_cmd_postfix": ") ",
     "delete_cmd_prefix": "rm(",
     "library": "var_list.r",
     "varRefreshCmd": "cat(var_dic_list()) "
    }
   },
   "types_to_exclude": [
    "module",
    "function",
    "builtin_function_or_method",
    "instance",
    "_Feature"
   ],
   "window_display": false
  }
 },
 "nbformat": 4,
 "nbformat_minor": 4
}
