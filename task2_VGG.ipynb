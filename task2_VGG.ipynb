{
 "cells": [
  {
   "cell_type": "markdown",
   "metadata": {
    "nbpresent": {
     "id": "1d234e3f-af8b-4757-83f3-241b04b7a511"
    }
   },
   "source": [
    "# Class Challenge: Image Classification of COVID-19 X-rays\n",
    "# Task 2 [Total points: 30]"
   ]
  },
  {
   "cell_type": "markdown",
   "metadata": {
    "nbpresent": {
     "id": "b07b9992-b592-4871-9f9a-3b0ae5fa8b5f"
    }
   },
   "source": [
    "## Setup\n",
    "\n",
    "* This assignment involves the following packages: 'matplotlib', 'numpy', and 'sklearn'. \n",
    "\n",
    "* If you are using conda, use the following commands to install the above packages:<br>\n",
    "```shell\n",
    "conda install matplotlib\n",
    "conda install numpy\n",
    "conda install -c anaconda scikit-learn\n",
    "```\n",
    "\n",
    "* If you are using pip, use use the following commands to install the above packages: <br> \n",
    "```shell\n",
    "pip install matplotlib\n",
    "pip install numpy\n",
    "pip install sklearn\n",
    "```"
   ]
  },
  {
   "cell_type": "markdown",
   "metadata": {
    "nbpresent": {
     "id": "5516f610-f00c-43c3-bf19-4cf7ab9c089f"
    }
   },
   "source": [
    "## Data\n",
    "\n",
    "Please download the data using the following link: [COVID-19](https://drive.google.com/file/d/1Y88tgqpQ1Pjko_7rntcPowOJs_QNOrJ-/view). \n",
    "\n",
    "* After downloading 'Covid_Data_GradientCrescent.zip', unzip the file and you should see the following data structure:\n",
    "\n",
    "\n",
    "|--all<br>\n",
    "|--------train<br>\n",
    "|--------test<br>\n",
    "|--two<br>\n",
    "|--------train<br>\n",
    "|--------test<br>\n",
    "\n",
    "\n",
    "* Put the 'all' folder, the 'two' folder and this python notebook in the **same directory** so that the following code can correctly locate the data.  \n",
    "\n"
   ]
  },
  {
   "cell_type": "markdown",
   "metadata": {
    "nbpresent": {
     "id": "66140980-2aa4-457f-b1df-74c10c234cc2"
    }
   },
   "source": [
    "## [20 points] Multi-class Classification"
   ]
  },
  {
   "cell_type": "code",
   "execution_count": 1,
   "metadata": {
    "nbpresent": {
     "id": "5e05f980-3d14-4367-b3d1-664249145b13"
    },
    "scrolled": true
   },
   "outputs": [
    {
     "data": {
      "text/plain": [
       "'2.6.0'"
      ]
     },
     "execution_count": 1,
     "metadata": {},
     "output_type": "execute_result"
    }
   ],
   "source": [
    "import os\n",
    "\n",
    "import tensorflow as tf\n",
    "import numpy as np\n",
    "import matplotlib.pyplot as plt\n",
    "from tensorflow.keras.preprocessing.image import ImageDataGenerator\n",
    "\n",
    "# os.environ['OMP_NUM_THREADS'] = '1'\n",
    "# os.environ[\"CUDA_DEVICE_ORDER\"]=\"PCI_BUS_ID\"   # see issue #152\n",
    "# os.environ[\"CUDA_VISIBLE_DEVICES\"]=\"0\"\n",
    "tf.__version__"
   ]
  },
  {
   "cell_type": "code",
   "execution_count": 2,
   "metadata": {},
   "outputs": [
    {
     "name": "stdout",
     "output_type": "stream",
     "text": [
      "Num GPUs Available:  1\n",
      "[name: \"/device:CPU:0\"\n",
      "device_type: \"CPU\"\n",
      "memory_limit: 268435456\n",
      "locality {\n",
      "}\n",
      "incarnation: 10053575647669565555\n",
      ", name: \"/device:GPU:0\"\n",
      "device_type: \"GPU\"\n",
      "memory_limit: 6252920832\n",
      "locality {\n",
      "  bus_id: 1\n",
      "  links {\n",
      "  }\n",
      "}\n",
      "incarnation: 6610614899885848118\n",
      "physical_device_desc: \"device: 0, name: NVIDIA GeForce RTX 2080 SUPER, pci bus id: 0000:01:00.0, compute capability: 7.5\"\n",
      "]\n"
     ]
    }
   ],
   "source": [
    "print(\"Num GPUs Available: \", len(tf.config.list_physical_devices('GPU')))\n",
    "tf.config.list_physical_devices('GPU')\n",
    "\n",
    "from tensorflow.python.client import device_lib\n",
    "print(device_lib.list_local_devices())"
   ]
  },
  {
   "cell_type": "markdown",
   "metadata": {
    "nbpresent": {
     "id": "66140980-2aa4-457f-b1df-74c10c234cc2"
    }
   },
   "source": [
    "#### Load Image Data"
   ]
  },
  {
   "cell_type": "code",
   "execution_count": 3,
   "metadata": {
    "nbpresent": {
     "id": "58317664-8da3-4283-b3e5-35721687e7ab"
    }
   },
   "outputs": [],
   "source": [
    "DATA_LIST = os.listdir('all/train')\n",
    "DATASET_PATH  = 'all/train'\n",
    "TEST_DIR =  'all/test'\n",
    "IMAGE_SIZE    = (224, 224)\n",
    "NUM_CLASSES   = len(DATA_LIST)\n",
    "BATCH_SIZE    = 10  # try reducing batch size or freeze more layers if your GPU runs out of memory\n",
    "NUM_EPOCHS    = 100\n",
    "LEARNING_RATE = 0.0001 # start off with high rate first 0.001 and experiment with reducing it gradually "
   ]
  },
  {
   "cell_type": "markdown",
   "metadata": {
    "nbpresent": {
     "id": "66140980-2aa4-457f-b1df-74c10c234cc2"
    }
   },
   "source": [
    "#### Generate Training and Validation Batches"
   ]
  },
  {
   "cell_type": "code",
   "execution_count": 4,
   "metadata": {
    "nbpresent": {
     "id": "71760e29-2b08-4259-93f1-ebe68cd74a6d"
    }
   },
   "outputs": [
    {
     "name": "stdout",
     "output_type": "stream",
     "text": [
      "Found 216 images belonging to 4 classes.\n",
      "Found 54 images belonging to 4 classes.\n"
     ]
    },
    {
     "name": "stderr",
     "output_type": "stream",
     "text": [
      "C:\\Users\\Li\\anaconda3\\lib\\site-packages\\keras_preprocessing\\image\\image_data_generator.py:342: UserWarning: This ImageDataGenerator specifies `zca_whitening` which overrides setting of`featurewise_std_normalization`.\n",
      "  warnings.warn('This ImageDataGenerator specifies '\n"
     ]
    }
   ],
   "source": [
    "train_datagen = ImageDataGenerator(rescale=1./255,rotation_range=50,featurewise_center = True,\n",
    "                                   featurewise_std_normalization = True,width_shift_range=0.2,\n",
    "                                   height_shift_range=0.2,shear_range=0.25,zoom_range=0.1,\n",
    "                                   zca_whitening = True,channel_shift_range = 20,\n",
    "                                   horizontal_flip = True,vertical_flip = True,\n",
    "                                   validation_split = 0.2,fill_mode='constant')\n",
    "\n",
    "\n",
    "train_batches = train_datagen.flow_from_directory(DATASET_PATH,target_size=IMAGE_SIZE,\n",
    "                                                  shuffle=True,batch_size=BATCH_SIZE,\n",
    "                                                  subset = \"training\",seed=42,\n",
    "                                                  class_mode=\"categorical\")\n",
    "\n",
    "valid_batches = train_datagen.flow_from_directory(DATASET_PATH,target_size=IMAGE_SIZE,\n",
    "                                                  shuffle=True,batch_size=BATCH_SIZE,\n",
    "                                                  subset = \"validation\",\n",
    "                                                  seed=42,class_mode=\"categorical\")"
   ]
  },
  {
   "cell_type": "markdown",
   "metadata": {
    "nbpresent": {
     "id": "66140980-2aa4-457f-b1df-74c10c234cc2"
    }
   },
   "source": [
    "#### [10 points] Build Model\n",
    "Hint: Starting from a pre-trained model typically helps performance on a new task, e.g. starting with weights obtained by training on ImageNet. "
   ]
  },
  {
   "cell_type": "code",
   "execution_count": 5,
   "metadata": {
    "nbpresent": {
     "id": "5c52eeb2-1092-4d45-9e16-02219c82cb5e"
    }
   },
   "outputs": [
    {
     "name": "stdout",
     "output_type": "stream",
     "text": [
      "Model: \"sequential\"\n",
      "_________________________________________________________________\n",
      "Layer (type)                 Output Shape              Param #   \n",
      "=================================================================\n",
      "vgg16 (Functional)           (None, 7, 7, 512)         14714688  \n",
      "_________________________________________________________________\n",
      "flatten (Flatten)            (None, 25088)             0         \n",
      "_________________________________________________________________\n",
      "dense (Dense)                (None, 256)               6422784   \n",
      "_________________________________________________________________\n",
      "dense_1 (Dense)              (None, 4)                 1028      \n",
      "=================================================================\n",
      "Total params: 21,138,500\n",
      "Trainable params: 6,423,812\n",
      "Non-trainable params: 14,714,688\n",
      "_________________________________________________________________\n"
     ]
    }
   ],
   "source": [
    "from tensorflow.keras.applications import VGG16\n",
    "from keras.layers.core import Flatten, Dense, Dropout, Lambda\n",
    "\n",
    "\n",
    "vgg16 = VGG16(weights='imagenet',include_top=False,pooling = \"None\", classes = 2, input_shape=(224, 224, 3))\n",
    "vgg16.trainable = False\n",
    "\n",
    "model = tf.keras.models.Sequential()\n",
    "model.add(vgg16)\n",
    "model.add(tf.keras.layers.Flatten())\n",
    "model.add(tf.keras.layers.Dense(256, activation='relu'))\n",
    "model.add(tf.keras.layers.Dense(4, activation='softmax'))\n",
    "model.summary()\n",
    "\n",
    "model.compile(loss='categorical_crossentropy', optimizer=tf.keras.optimizers.Adam(learning_rate=LEARNING_RATE), metrics=['accuracy'])"
   ]
  },
  {
   "cell_type": "markdown",
   "metadata": {
    "nbpresent": {
     "id": "66140980-2aa4-457f-b1df-74c10c234cc2"
    }
   },
   "source": [
    "#### [5 points] Train Model"
   ]
  },
  {
   "cell_type": "code",
   "execution_count": 6,
   "metadata": {
    "nbpresent": {
     "id": "cdb90d24-6a23-4969-8138-f37e7050062d"
    }
   },
   "outputs": [
    {
     "name": "stdout",
     "output_type": "stream",
     "text": [
      "22\n",
      "6\n"
     ]
    },
    {
     "name": "stderr",
     "output_type": "stream",
     "text": [
      "C:\\Users\\Li\\anaconda3\\lib\\site-packages\\keras\\engine\\training.py:1972: UserWarning: `Model.fit_generator` is deprecated and will be removed in a future version. Please use `Model.fit`, which supports generators.\n",
      "  warnings.warn('`Model.fit_generator` is deprecated and '\n",
      "C:\\Users\\Li\\anaconda3\\lib\\site-packages\\keras_preprocessing\\image\\image_data_generator.py:720: UserWarning: This ImageDataGenerator specifies `featurewise_center`, but it hasn't been fit on any training data. Fit it first by calling `.fit(numpy_data)`.\n",
      "  warnings.warn('This ImageDataGenerator specifies '\n",
      "C:\\Users\\Li\\anaconda3\\lib\\site-packages\\keras_preprocessing\\image\\image_data_generator.py:739: UserWarning: This ImageDataGenerator specifies `zca_whitening`, but it hasn't been fit on any training data. Fit it first by calling `.fit(numpy_data)`.\n",
      "  warnings.warn('This ImageDataGenerator specifies '\n"
     ]
    },
    {
     "name": "stdout",
     "output_type": "stream",
     "text": [
      "Epoch 1/100\n",
      "21/21 [==============================] - 8s 269ms/step - loss: 1.4264 - accuracy: 0.3010 - val_loss: 1.1429 - val_accuracy: 0.4000\n",
      "Epoch 2/100\n",
      "21/21 [==============================] - 5s 237ms/step - loss: 1.1732 - accuracy: 0.4563 - val_loss: 1.1100 - val_accuracy: 0.4400\n",
      "Epoch 3/100\n",
      "21/21 [==============================] - 5s 230ms/step - loss: 1.1180 - accuracy: 0.4563 - val_loss: 1.1234 - val_accuracy: 0.4600\n",
      "Epoch 4/100\n",
      "21/21 [==============================] - 5s 228ms/step - loss: 0.9523 - accuracy: 0.6019 - val_loss: 0.8814 - val_accuracy: 0.6000\n",
      "Epoch 5/100\n",
      "21/21 [==============================] - 5s 234ms/step - loss: 0.9605 - accuracy: 0.5680 - val_loss: 0.8906 - val_accuracy: 0.6400\n",
      "Epoch 6/100\n",
      "21/21 [==============================] - 5s 236ms/step - loss: 0.8831 - accuracy: 0.6214 - val_loss: 0.9134 - val_accuracy: 0.6000\n",
      "Epoch 7/100\n",
      "21/21 [==============================] - 5s 234ms/step - loss: 0.8801 - accuracy: 0.6117 - val_loss: 0.8144 - val_accuracy: 0.6600\n",
      "Epoch 8/100\n",
      "21/21 [==============================] - 5s 234ms/step - loss: 0.8398 - accuracy: 0.6845 - val_loss: 0.8069 - val_accuracy: 0.6400\n",
      "Epoch 9/100\n",
      "21/21 [==============================] - 5s 237ms/step - loss: 0.8554 - accuracy: 0.6602 - val_loss: 0.7314 - val_accuracy: 0.7200\n",
      "Epoch 10/100\n",
      "21/21 [==============================] - 5s 231ms/step - loss: 0.8012 - accuracy: 0.6359 - val_loss: 0.7197 - val_accuracy: 0.7400\n",
      "Epoch 11/100\n",
      "21/21 [==============================] - 5s 230ms/step - loss: 0.8225 - accuracy: 0.6456 - val_loss: 0.8817 - val_accuracy: 0.5600\n",
      "Epoch 12/100\n",
      "21/21 [==============================] - 5s 231ms/step - loss: 0.8391 - accuracy: 0.6214 - val_loss: 0.8488 - val_accuracy: 0.5800\n",
      "Epoch 13/100\n",
      "21/21 [==============================] - 5s 234ms/step - loss: 0.8010 - accuracy: 0.6602 - val_loss: 0.7427 - val_accuracy: 0.6200\n",
      "Epoch 14/100\n",
      "21/21 [==============================] - 5s 232ms/step - loss: 0.7103 - accuracy: 0.7039 - val_loss: 0.6787 - val_accuracy: 0.7400\n",
      "Epoch 15/100\n",
      "21/21 [==============================] - 5s 235ms/step - loss: 0.6754 - accuracy: 0.7087 - val_loss: 0.9397 - val_accuracy: 0.5800\n",
      "Epoch 16/100\n",
      "21/21 [==============================] - 5s 234ms/step - loss: 0.7933 - accuracy: 0.6699 - val_loss: 0.7090 - val_accuracy: 0.7000\n",
      "Epoch 17/100\n",
      "21/21 [==============================] - 5s 236ms/step - loss: 0.6515 - accuracy: 0.7087 - val_loss: 0.7031 - val_accuracy: 0.6800\n",
      "Epoch 18/100\n",
      "21/21 [==============================] - 5s 234ms/step - loss: 0.6871 - accuracy: 0.7087 - val_loss: 0.6270 - val_accuracy: 0.7000\n",
      "Epoch 19/100\n",
      "21/21 [==============================] - 5s 235ms/step - loss: 0.6966 - accuracy: 0.7379 - val_loss: 0.8661 - val_accuracy: 0.6600\n",
      "Epoch 20/100\n",
      "21/21 [==============================] - 5s 233ms/step - loss: 0.7016 - accuracy: 0.6699 - val_loss: 0.8272 - val_accuracy: 0.6600\n",
      "Epoch 21/100\n",
      "21/21 [==============================] - 5s 234ms/step - loss: 0.7270 - accuracy: 0.6650 - val_loss: 0.7961 - val_accuracy: 0.5400\n",
      "Epoch 22/100\n",
      "21/21 [==============================] - 5s 232ms/step - loss: 0.6639 - accuracy: 0.7379 - val_loss: 0.8159 - val_accuracy: 0.5800\n",
      "Epoch 23/100\n",
      "21/21 [==============================] - 5s 223ms/step - loss: 0.7012 - accuracy: 0.6990 - val_loss: 0.8038 - val_accuracy: 0.6200\n",
      "Epoch 24/100\n",
      "21/21 [==============================] - 5s 231ms/step - loss: 0.7277 - accuracy: 0.6845 - val_loss: 0.8103 - val_accuracy: 0.6600\n",
      "Epoch 25/100\n",
      "21/21 [==============================] - 5s 234ms/step - loss: 0.6329 - accuracy: 0.7330 - val_loss: 0.7182 - val_accuracy: 0.6600\n",
      "Epoch 26/100\n",
      "21/21 [==============================] - 5s 231ms/step - loss: 0.6680 - accuracy: 0.7184 - val_loss: 0.5410 - val_accuracy: 0.7800\n",
      "Epoch 27/100\n",
      "21/21 [==============================] - 5s 234ms/step - loss: 0.6135 - accuracy: 0.7670 - val_loss: 0.9916 - val_accuracy: 0.5200\n",
      "Epoch 28/100\n",
      "21/21 [==============================] - 5s 231ms/step - loss: 0.7011 - accuracy: 0.6893 - val_loss: 0.9131 - val_accuracy: 0.5200\n",
      "Epoch 29/100\n",
      "21/21 [==============================] - 5s 235ms/step - loss: 0.6107 - accuracy: 0.7476 - val_loss: 0.6755 - val_accuracy: 0.6400\n",
      "Epoch 30/100\n",
      "21/21 [==============================] - 5s 235ms/step - loss: 0.6591 - accuracy: 0.7136 - val_loss: 0.9429 - val_accuracy: 0.5400\n",
      "Epoch 31/100\n",
      "21/21 [==============================] - 5s 235ms/step - loss: 0.6792 - accuracy: 0.7039 - val_loss: 0.7686 - val_accuracy: 0.7000\n",
      "Epoch 32/100\n",
      "21/21 [==============================] - 5s 233ms/step - loss: 0.6704 - accuracy: 0.7184 - val_loss: 0.7658 - val_accuracy: 0.6800\n",
      "Epoch 33/100\n",
      "21/21 [==============================] - 5s 227ms/step - loss: 0.6095 - accuracy: 0.7573 - val_loss: 0.7125 - val_accuracy: 0.7000\n",
      "Epoch 34/100\n",
      "21/21 [==============================] - 5s 226ms/step - loss: 0.6457 - accuracy: 0.7233 - val_loss: 0.6751 - val_accuracy: 0.7000\n",
      "Epoch 35/100\n",
      "21/21 [==============================] - 5s 236ms/step - loss: 0.6267 - accuracy: 0.7524 - val_loss: 0.7554 - val_accuracy: 0.6400\n",
      "Epoch 36/100\n",
      "21/21 [==============================] - 5s 233ms/step - loss: 0.6632 - accuracy: 0.7282 - val_loss: 0.6110 - val_accuracy: 0.7600\n",
      "Epoch 37/100\n",
      "21/21 [==============================] - 5s 230ms/step - loss: 0.5977 - accuracy: 0.7718 - val_loss: 0.6660 - val_accuracy: 0.6800\n",
      "Epoch 38/100\n",
      "21/21 [==============================] - 5s 233ms/step - loss: 0.5316 - accuracy: 0.7670 - val_loss: 0.7484 - val_accuracy: 0.6000\n",
      "Epoch 39/100\n",
      "21/21 [==============================] - 5s 234ms/step - loss: 0.6451 - accuracy: 0.7282 - val_loss: 0.8453 - val_accuracy: 0.5600\n",
      "Epoch 40/100\n",
      "21/21 [==============================] - 5s 235ms/step - loss: 0.6425 - accuracy: 0.7476 - val_loss: 0.7557 - val_accuracy: 0.6600\n",
      "Epoch 41/100\n",
      "21/21 [==============================] - 5s 239ms/step - loss: 0.6038 - accuracy: 0.7143 - val_loss: 0.6908 - val_accuracy: 0.6400\n",
      "Epoch 42/100\n",
      "21/21 [==============================] - 5s 234ms/step - loss: 0.5543 - accuracy: 0.7670 - val_loss: 0.6859 - val_accuracy: 0.6200\n",
      "Epoch 43/100\n",
      "21/21 [==============================] - 5s 234ms/step - loss: 0.5929 - accuracy: 0.7621 - val_loss: 0.6272 - val_accuracy: 0.7200\n",
      "Epoch 44/100\n",
      "21/21 [==============================] - 5s 234ms/step - loss: 0.6248 - accuracy: 0.7184 - val_loss: 0.6195 - val_accuracy: 0.7200\n",
      "Epoch 45/100\n",
      "21/21 [==============================] - 5s 228ms/step - loss: 0.5850 - accuracy: 0.7670 - val_loss: 0.8039 - val_accuracy: 0.5600\n",
      "Epoch 46/100\n",
      "21/21 [==============================] - 5s 230ms/step - loss: 0.5371 - accuracy: 0.7621 - val_loss: 0.7563 - val_accuracy: 0.5800\n",
      "Epoch 47/100\n",
      "21/21 [==============================] - 5s 230ms/step - loss: 0.5336 - accuracy: 0.7524 - val_loss: 0.7040 - val_accuracy: 0.7000\n",
      "Epoch 48/100\n",
      "21/21 [==============================] - 5s 230ms/step - loss: 0.5937 - accuracy: 0.7476 - val_loss: 0.6356 - val_accuracy: 0.6800\n",
      "Epoch 49/100\n",
      "21/21 [==============================] - 5s 234ms/step - loss: 0.6132 - accuracy: 0.7233 - val_loss: 0.5993 - val_accuracy: 0.6600\n",
      "Epoch 50/100\n",
      "21/21 [==============================] - 5s 229ms/step - loss: 0.6334 - accuracy: 0.7524 - val_loss: 0.7154 - val_accuracy: 0.7200\n",
      "Epoch 51/100\n",
      "21/21 [==============================] - 5s 231ms/step - loss: 0.5691 - accuracy: 0.7573 - val_loss: 0.6660 - val_accuracy: 0.6800\n",
      "Epoch 52/100\n",
      "21/21 [==============================] - 5s 235ms/step - loss: 0.5078 - accuracy: 0.7961 - val_loss: 0.7096 - val_accuracy: 0.6200\n",
      "Epoch 53/100\n",
      "21/21 [==============================] - 5s 231ms/step - loss: 0.5323 - accuracy: 0.7670 - val_loss: 0.5824 - val_accuracy: 0.7600\n",
      "Epoch 54/100\n",
      "21/21 [==============================] - 5s 234ms/step - loss: 0.6194 - accuracy: 0.7233 - val_loss: 0.6352 - val_accuracy: 0.6600\n",
      "Epoch 55/100\n",
      "21/21 [==============================] - 5s 232ms/step - loss: 0.5684 - accuracy: 0.7816 - val_loss: 0.6507 - val_accuracy: 0.7400\n",
      "Epoch 56/100\n",
      "21/21 [==============================] - 5s 235ms/step - loss: 0.5429 - accuracy: 0.7573 - val_loss: 0.6149 - val_accuracy: 0.6800\n",
      "Epoch 57/100\n",
      "21/21 [==============================] - 5s 234ms/step - loss: 0.6298 - accuracy: 0.7087 - val_loss: 0.8278 - val_accuracy: 0.6200\n",
      "Epoch 58/100\n",
      "21/21 [==============================] - 5s 236ms/step - loss: 0.5504 - accuracy: 0.7573 - val_loss: 0.7283 - val_accuracy: 0.7000\n",
      "Epoch 59/100\n",
      "21/21 [==============================] - 5s 232ms/step - loss: 0.5396 - accuracy: 0.7767 - val_loss: 0.6445 - val_accuracy: 0.7000\n",
      "Epoch 60/100\n",
      "21/21 [==============================] - 5s 234ms/step - loss: 0.5385 - accuracy: 0.7667 - val_loss: 0.7447 - val_accuracy: 0.5800\n",
      "Epoch 61/100\n",
      "21/21 [==============================] - 5s 230ms/step - loss: 0.5600 - accuracy: 0.7816 - val_loss: 0.5994 - val_accuracy: 0.7200\n",
      "Epoch 62/100\n",
      "21/21 [==============================] - 5s 236ms/step - loss: 0.4901 - accuracy: 0.8204 - val_loss: 0.7886 - val_accuracy: 0.5800\n",
      "Epoch 63/100\n",
      "21/21 [==============================] - 5s 233ms/step - loss: 0.5679 - accuracy: 0.7767 - val_loss: 0.7193 - val_accuracy: 0.6200\n",
      "Epoch 64/100\n",
      "21/21 [==============================] - 5s 237ms/step - loss: 0.5666 - accuracy: 0.7427 - val_loss: 0.5512 - val_accuracy: 0.7600\n",
      "Epoch 65/100\n",
      "21/21 [==============================] - 5s 236ms/step - loss: 0.5544 - accuracy: 0.7573 - val_loss: 0.6635 - val_accuracy: 0.7000\n",
      "Epoch 66/100\n",
      "21/21 [==============================] - 5s 230ms/step - loss: 0.5992 - accuracy: 0.7330 - val_loss: 0.8694 - val_accuracy: 0.6400\n",
      "Epoch 67/100\n",
      "21/21 [==============================] - 5s 232ms/step - loss: 0.6100 - accuracy: 0.7573 - val_loss: 0.7381 - val_accuracy: 0.6200\n",
      "Epoch 68/100\n",
      "21/21 [==============================] - 5s 233ms/step - loss: 0.5367 - accuracy: 0.7864 - val_loss: 0.7385 - val_accuracy: 0.5800\n",
      "Epoch 69/100\n",
      "21/21 [==============================] - 5s 232ms/step - loss: 0.5460 - accuracy: 0.7379 - val_loss: 0.6521 - val_accuracy: 0.6800\n",
      "Epoch 70/100\n",
      "21/21 [==============================] - 5s 232ms/step - loss: 0.5708 - accuracy: 0.7427 - val_loss: 0.7493 - val_accuracy: 0.6400\n",
      "Epoch 71/100\n",
      "21/21 [==============================] - 5s 234ms/step - loss: 0.5353 - accuracy: 0.7427 - val_loss: 0.5695 - val_accuracy: 0.7400\n",
      "Epoch 72/100\n",
      "21/21 [==============================] - 5s 234ms/step - loss: 0.5555 - accuracy: 0.7573 - val_loss: 0.5782 - val_accuracy: 0.7000\n",
      "Epoch 73/100\n",
      "21/21 [==============================] - 5s 232ms/step - loss: 0.5271 - accuracy: 0.7621 - val_loss: 0.8220 - val_accuracy: 0.6400\n",
      "Epoch 74/100\n",
      "21/21 [==============================] - 5s 237ms/step - loss: 0.5769 - accuracy: 0.7670 - val_loss: 0.7831 - val_accuracy: 0.6800\n",
      "Epoch 75/100\n",
      "21/21 [==============================] - 5s 235ms/step - loss: 0.5406 - accuracy: 0.7718 - val_loss: 0.7095 - val_accuracy: 0.7200\n",
      "Epoch 76/100\n",
      "21/21 [==============================] - 5s 234ms/step - loss: 0.4809 - accuracy: 0.7816 - val_loss: 0.7204 - val_accuracy: 0.6400\n",
      "Epoch 77/100\n",
      "21/21 [==============================] - 5s 235ms/step - loss: 0.4846 - accuracy: 0.8010 - val_loss: 0.8055 - val_accuracy: 0.6600\n",
      "Epoch 78/100\n",
      "21/21 [==============================] - 5s 232ms/step - loss: 0.5305 - accuracy: 0.7718 - val_loss: 0.7984 - val_accuracy: 0.6600\n",
      "Epoch 79/100\n",
      "21/21 [==============================] - 5s 236ms/step - loss: 0.5435 - accuracy: 0.7573 - val_loss: 0.7398 - val_accuracy: 0.6800\n",
      "Epoch 80/100\n",
      "21/21 [==============================] - 5s 237ms/step - loss: 0.5985 - accuracy: 0.7573 - val_loss: 0.7189 - val_accuracy: 0.6400\n",
      "Epoch 81/100\n",
      "21/21 [==============================] - 5s 231ms/step - loss: 0.6298 - accuracy: 0.7379 - val_loss: 0.6261 - val_accuracy: 0.7400\n",
      "Epoch 82/100\n",
      "21/21 [==============================] - 5s 233ms/step - loss: 0.5582 - accuracy: 0.7621 - val_loss: 0.7064 - val_accuracy: 0.6600\n",
      "Epoch 83/100\n",
      "21/21 [==============================] - 5s 237ms/step - loss: 0.5068 - accuracy: 0.7767 - val_loss: 0.4752 - val_accuracy: 0.7800\n",
      "Epoch 84/100\n",
      "21/21 [==============================] - 5s 224ms/step - loss: 0.5029 - accuracy: 0.7573 - val_loss: 0.7053 - val_accuracy: 0.6600\n",
      "Epoch 85/100\n",
      "21/21 [==============================] - 5s 235ms/step - loss: 0.5323 - accuracy: 0.7767 - val_loss: 0.7489 - val_accuracy: 0.6400\n",
      "Epoch 86/100\n",
      "21/21 [==============================] - 5s 235ms/step - loss: 0.4766 - accuracy: 0.8010 - val_loss: 0.6302 - val_accuracy: 0.7200\n",
      "Epoch 87/100\n",
      "21/21 [==============================] - 5s 235ms/step - loss: 0.4788 - accuracy: 0.8301 - val_loss: 0.6049 - val_accuracy: 0.7000\n",
      "Epoch 88/100\n",
      "21/21 [==============================] - 5s 236ms/step - loss: 0.4871 - accuracy: 0.7816 - val_loss: 0.7066 - val_accuracy: 0.6600\n",
      "Epoch 89/100\n",
      "21/21 [==============================] - 5s 228ms/step - loss: 0.4901 - accuracy: 0.7816 - val_loss: 0.7800 - val_accuracy: 0.6400\n",
      "Epoch 90/100\n",
      "21/21 [==============================] - 5s 238ms/step - loss: 0.4343 - accuracy: 0.8350 - val_loss: 0.5082 - val_accuracy: 0.7400\n",
      "Epoch 91/100\n",
      "21/21 [==============================] - 5s 236ms/step - loss: 0.4970 - accuracy: 0.7767 - val_loss: 0.4633 - val_accuracy: 0.7800\n",
      "Epoch 92/100\n",
      "21/21 [==============================] - 5s 231ms/step - loss: 0.5019 - accuracy: 0.8058 - val_loss: 0.6147 - val_accuracy: 0.7000\n",
      "Epoch 93/100\n",
      "21/21 [==============================] - 5s 235ms/step - loss: 0.5359 - accuracy: 0.7573 - val_loss: 0.7254 - val_accuracy: 0.6400\n",
      "Epoch 94/100\n",
      "21/21 [==============================] - 5s 233ms/step - loss: 0.4413 - accuracy: 0.8010 - val_loss: 0.8067 - val_accuracy: 0.7000\n",
      "Epoch 95/100\n",
      "21/21 [==============================] - 5s 235ms/step - loss: 0.4942 - accuracy: 0.7913 - val_loss: 0.6256 - val_accuracy: 0.7400\n",
      "Epoch 96/100\n",
      "21/21 [==============================] - 5s 234ms/step - loss: 0.4537 - accuracy: 0.8010 - val_loss: 0.6329 - val_accuracy: 0.6600\n",
      "Epoch 97/100\n",
      "21/21 [==============================] - 5s 226ms/step - loss: 0.4488 - accuracy: 0.8010 - val_loss: 0.7618 - val_accuracy: 0.6200\n",
      "Epoch 98/100\n",
      "21/21 [==============================] - 5s 234ms/step - loss: 0.4621 - accuracy: 0.7816 - val_loss: 0.6498 - val_accuracy: 0.6800\n",
      "Epoch 99/100\n",
      "21/21 [==============================] - 5s 231ms/step - loss: 0.4938 - accuracy: 0.7767 - val_loss: 0.8265 - val_accuracy: 0.6600\n",
      "Epoch 100/100\n",
      "21/21 [==============================] - 5s 227ms/step - loss: 0.4718 - accuracy: 0.8058 - val_loss: 0.9059 - val_accuracy: 0.6800\n"
     ]
    }
   ],
   "source": [
    "#FIT MODEL\n",
    "print(len(train_batches))\n",
    "print(len(valid_batches))\n",
    "\n",
    "STEP_SIZE_TRAIN=train_batches.n//train_batches.batch_size\n",
    "STEP_SIZE_VALID=valid_batches.n//valid_batches.batch_size\n",
    "\n",
    "history=model.fit_generator(train_batches, steps_per_epoch =STEP_SIZE_TRAIN, validation_data = valid_batches, validation_steps = STEP_SIZE_VALID, epochs= NUM_EPOCHS)"
   ]
  },
  {
   "cell_type": "markdown",
   "metadata": {
    "nbpresent": {
     "id": "66140980-2aa4-457f-b1df-74c10c234cc2"
    }
   },
   "source": [
    "#### [5 points] Plot Accuracy and Loss During Training"
   ]
  },
  {
   "cell_type": "code",
   "execution_count": 7,
   "metadata": {
    "nbpresent": {
     "id": "ff342098-784a-4e20-ac34-b74ca8ebe839"
    }
   },
   "outputs": [
    {
     "data": {
      "image/png": "[encoded data removed]",
      "text/plain": [
       "<Figure size 1080x360 with 2 Axes>"
      ]
     },
     "metadata": {
      "needs_background": "light"
     },
     "output_type": "display_data"
    }
   ],
   "source": [
    "import matplotlib.pyplot as plt\n",
    "\n",
    "def plot_acc_loss(history, epochs):\n",
    "    acc = history.history['accuracy']\n",
    "    val_acc = history.history['val_accuracy']\n",
    "    loss = history.history['loss']\n",
    "    val_loss = history.history['val_loss']\n",
    "    \n",
    "    plt.figure(figsize=(15, 5))\n",
    "    \n",
    "    plt.subplot(121)\n",
    "    plt.plot(range(1,epochs), acc[1:], label='Train_acc')\n",
    "    plt.plot(range(1,epochs), val_acc[1:], label='Test_acc')\n",
    "    plt.title('Accuracy over ' + str(epochs) + ' Epochs', size=15)\n",
    "    plt.grid(True)\n",
    "    plt.legend()\n",
    "    \n",
    "    plt.subplot(122)\n",
    "    plt.plot(range(1,epochs), loss[1:], label='Train_loss')\n",
    "    plt.plot(range(1,epochs), val_loss[1:], label='Test_loss')\n",
    "    plt.title('Loss over ' + str(epochs) + ' Epochs', size=15)\n",
    "    plt.grid(True)\n",
    "    plt.legend()\n",
    "    \n",
    "    plt.show()\n",
    "\n",
    "    \n",
    "plot_acc_loss(history, 100)"
   ]
  },
  {
   "cell_type": "markdown",
   "metadata": {
    "nbpresent": {
     "id": "66140980-2aa4-457f-b1df-74c10c234cc2"
    }
   },
   "source": [
    "#### Testing Model"
   ]
  },
  {
   "cell_type": "code",
   "execution_count": 8,
   "metadata": {},
   "outputs": [
    {
     "name": "stdout",
     "output_type": "stream",
     "text": [
      "Found 36 images belonging to 4 classes.\n",
      "36\n"
     ]
    },
    {
     "name": "stderr",
     "output_type": "stream",
     "text": [
      "C:\\Users\\Li\\anaconda3\\lib\\site-packages\\keras\\engine\\training.py:2006: UserWarning: `Model.evaluate_generator` is deprecated and will be removed in a future version. Please use `Model.evaluate`, which supports generators.\n",
      "  warnings.warn('`Model.evaluate_generator` is deprecated and '\n"
     ]
    },
    {
     "name": "stdout",
     "output_type": "stream",
     "text": [
      "36/36 [==============================] - 1s 16ms/step - loss: 0.7485 - accuracy: 0.7500\n",
      "Test loss: 0.748456597328186\n",
      "Test accuracy: 0.75\n"
     ]
    }
   ],
   "source": [
    "test_datagen = ImageDataGenerator(rescale=1. / 255)\n",
    "\n",
    "eval_generator = test_datagen.flow_from_directory(TEST_DIR,target_size=IMAGE_SIZE,\n",
    "                                                  batch_size=1,shuffle=True,seed=42,class_mode=\"categorical\")\n",
    "eval_generator.reset()\n",
    "print(len(eval_generator))\n",
    "x = model.evaluate_generator(eval_generator,steps = np.ceil(len(eval_generator)),\n",
    "                           use_multiprocessing = False,verbose = 1,workers=1)\n",
    "print('Test loss:' , x[0])\n",
    "print('Test accuracy:',x[1])"
   ]
  },
  {
   "cell_type": "markdown",
   "metadata": {
    "nbpresent": {
     "id": "66140980-2aa4-457f-b1df-74c10c234cc2"
    }
   },
   "source": [
    "## [10 points] TSNE Plot\n",
    "t-Distributed Stochastic Neighbor Embedding (t-SNE) is a widely used technique for dimensionality reduction that is particularly well suited for the visualization of high-dimensional datasets. After training is complete, extract features from a specific deep layer of your choice, use t-SNE to reduce the dimensionality of your extracted features to 2 dimensions and plot the resulting 2D features."
   ]
  },
  {
   "cell_type": "code",
   "execution_count": 11,
   "metadata": {},
   "outputs": [
    {
     "name": "stdout",
     "output_type": "stream",
     "text": [
      "Found 270 images belonging to 4 classes.\n",
      "{'covid': 0, 'normal': 1, 'pneumonia_bac': 2, 'pneumonia_vir': 3}\n",
      "  1/270 [..............................] - ETA: 29s"
     ]
    },
    {
     "name": "stderr",
     "output_type": "stream",
     "text": [
      "C:\\Users\\Li\\anaconda3\\lib\\site-packages\\keras\\engine\\training.py:2035: UserWarning: `Model.predict_generator` is deprecated and will be removed in a future version. Please use `Model.predict`, which supports generators.\n",
      "  warnings.warn('`Model.predict_generator` is deprecated and '\n"
     ]
    },
    {
     "name": "stdout",
     "output_type": "stream",
     "text": [
      "270/270 [==============================] - 4s 13ms/step\n"
     ]
    },
    {
     "data": {
      "text/plain": [
       "<matplotlib.legend.Legend at 0x29993192bc8>"
      ]
     },
     "execution_count": 11,
     "metadata": {},
     "output_type": "execute_result"
    },
    {
     "data": {
      "image/png": "[encoded data removed]",
      "text/plain": [
       "<Figure size 432x288 with 1 Axes>"
      ]
     },
     "metadata": {
      "needs_background": "light"
     },
     "output_type": "display_data"
    }
   ],
   "source": [
    "from sklearn.manifold import TSNE\n",
    "\n",
    "intermediate_layer_model = tf.keras.models.Model(inputs=model.input,\n",
    "                                        outputs=model.get_layer('dense').output)\n",
    "tsne_eval_generator = test_datagen.flow_from_directory(DATASET_PATH,target_size=IMAGE_SIZE,\n",
    "                                                  batch_size=1,shuffle=False,seed=42,class_mode=\"categorical\")\n",
    "print(tsne_eval_generator.class_indices)\n",
    "\n",
    "outputs = intermediate_layer_model.predict_generator(tsne_eval_generator,270,verbose=1)\n",
    "features = TSNE(n_components=2).fit_transform(outputs)\n",
    "label = tsne_eval_generator.classes\n",
    "\n",
    "\n",
    "covid_x, covid_y, normal_x, normal_y, pneumonia_bac_x, pneumonia_bac_y, pneumonia_vir_x, pneumonia_vir_y = [],[],[],[],[],[],[],[]\n",
    "\n",
    "plt.figure()\n",
    "for index in range(len(features)):\n",
    "    if label[index] == 0:\n",
    "        covid_x.append(features[index, 0])\n",
    "        covid_y.append(features[index, 1])        \n",
    "    elif label[index] == 1:\n",
    "        normal_x.append(features[index, 0])\n",
    "        normal_y.append(features[index, 1]) \n",
    "    elif label[index] == 2:\n",
    "        pneumonia_bac_x.append(features[index, 0])\n",
    "        pneumonia_bac_y.append(features[index, 1]) \n",
    "    else:\n",
    "        pneumonia_vir_x.append(features[index, 0])\n",
    "        pneumonia_vir_y.append(features[index, 1]) \n",
    "\n",
    "plt.plot(covid_x, covid_y,'bo', ms=4, label=\"COVID-19\")\n",
    "plt.plot(normal_x, normal_y,'yo', ms=4, label=\"Normal\")\n",
    "plt.plot(pneumonia_bac_x, pneumonia_bac_y, 'go', ms=4, label=\"Pneumonia_bac\")\n",
    "plt.plot(pneumonia_vir_x, pneumonia_vir_y, 'ro', ms=4, label=\"Pneumonia_vir\")\n",
    "\n",
    "plt.legend(loc='upper left')"
   ]
  },
  {
   "cell_type": "markdown",
   "metadata": {},
   "source": [
    "<!-- ## Task 2: COVID-19 vs Normal vs Tertiary Pneumonia (Bacterial and Viral) -->"
   ]
  },
  {
   "cell_type": "markdown",
   "metadata": {
    "nbpresent": {
     "id": "66140980-2aa4-457f-b1df-74c10c234cc2"
    }
   },
   "source": [
    "<!-- #### Renew Training Batch and Validation Batch -->"
   ]
  },
  {
   "cell_type": "markdown",
   "metadata": {
    "nbpresent": {
     "id": "66140980-2aa4-457f-b1df-74c10c234cc2"
    }
   },
   "source": [
    "<!-- #### Renew Model -->"
   ]
  }
 ],
 "metadata": {
  "kernelspec": {
   "display_name": "Python 3",
   "language": "python",
   "name": "python3"
  },
  "language_info": {
   "codemirror_mode": {
    "name": "ipython",
    "version": 3
   },
   "file_extension": ".py",
   "mimetype": "text/x-python",
   "name": "python",
   "nbconvert_exporter": "python",
   "pygments_lexer": "ipython3",
   "version": "3.7.6"
  },
  "latex_envs": {
   "LaTeX_envs_menu_present": true,
   "autoclose": false,
   "autocomplete": true,
   "bibliofile": "biblio.bib",
   "cite_by": "apalike",
   "current_citInitial": 1,
   "eqLabelWithNumbers": true,
   "eqNumInitial": 1,
   "hotkeys": {
    "equation": "Ctrl-E",
    "itemize": "Ctrl-I"
   },
   "labels_anchors": false,
   "latex_user_defs": false,
   "report_style_numbering": false,
   "user_envs_cfg": false
  },
  "toc": {
   "base_numbering": 1,
   "nav_menu": {},
   "number_sections": true,
   "sideBar": true,
   "skip_h1_title": false,
   "title_cell": "Table of Contents",
   "title_sidebar": "Contents",
   "toc_cell": false,
   "toc_position": {},
   "toc_section_display": true,
   "toc_window_display": false
  },
  "varInspector": {
   "cols": {
    "lenName": 16,
    "lenType": 16,
    "lenVar": 40
   },
   "kernels_config": {
    "python": {
     "delete_cmd_postfix": "",
     "delete_cmd_prefix": "del ",
     "library": "var_list.py",
     "varRefreshCmd": "print(var_dic_list())"
    },
    "r": {
     "delete_cmd_postfix": ") ",
     "delete_cmd_prefix": "rm(",
     "library": "var_list.r",
     "varRefreshCmd": "cat(var_dic_list()) "
    }
   },
   "types_to_exclude": [
    "module",
    "function",
    "builtin_function_or_method",
    "instance",
    "_Feature"
   ],
   "window_display": false
  }
 },
 "nbformat": 4,
 "nbformat_minor": 4
}
